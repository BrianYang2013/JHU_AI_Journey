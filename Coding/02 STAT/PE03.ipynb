{
 "cells": [
  {
   "cell_type": "code",
   "execution_count": 49,
   "id": "1b3fa300",
   "metadata": {
    "ExecuteTime": {
     "end_time": "2021-09-19T03:29:30.952738Z",
     "start_time": "2021-09-19T03:29:30.945741Z"
    }
   },
   "outputs": [
    {
     "name": "stdout",
     "output_type": "stream",
     "text": [
      "[0 1 1 1]\n",
      "3\n",
      "False\n",
      "True\n"
     ]
    }
   ],
   "source": [
    "import numpy as np\n",
    "\n",
    "trail = np.random.randint(0, 2, 4)\n",
    "print(trail)\n",
    "print(sum(trail))\n",
    "\n",
    "trail_1 = [1, 1, 1, 1]\n",
    "print(sum(trail_1[:3]) == 0)\n",
    "print(sum(trail_1[:3]) == 3)"
   ]
  },
  {
   "cell_type": "code",
   "execution_count": 50,
   "id": "03310986",
   "metadata": {
    "ExecuteTime": {
     "end_time": "2021-09-19T03:29:39.249688Z",
     "start_time": "2021-09-19T03:29:39.101371Z"
    }
   },
   "outputs": [
    {
     "name": "stdout",
     "output_type": "stream",
     "text": [
      "3742 7427 0.503837350208698\n"
     ]
    }
   ],
   "source": [
    "import numpy as np\n",
    "numerator = 0\n",
    "denominator = 0\n",
    "\n",
    "for i in range(10000):\n",
    "    trail = np.random.randint(0, 2, 4)\n",
    "    if sum(trail[:3]) == 0 or sum(trail[:3]) == 3:\n",
    "        continue\n",
    "    elif sum(trail) == 1 or sum(trail) == 3:\n",
    "        numerator += 1\n",
    "        denominator += 1\n",
    "    elif sum(trail) == 2:\n",
    "        denominator += 1\n",
    "print (numerator, denominator, numerator/denominator)"
   ]
  },
  {
   "cell_type": "code",
   "execution_count": null,
   "id": "7b02c657",
   "metadata": {},
   "outputs": [],
   "source": []
  },
  {
   "cell_type": "code",
   "execution_count": null,
   "id": "161e4f1b",
   "metadata": {},
   "outputs": [],
   "source": []
  }
 ],
 "metadata": {
  "kernelspec": {
   "display_name": "Python 3",
   "language": "python",
   "name": "python3"
  },
  "language_info": {
   "codemirror_mode": {
    "name": "ipython",
    "version": 3
   },
   "file_extension": ".py",
   "mimetype": "text/x-python",
   "name": "python",
   "nbconvert_exporter": "python",
   "pygments_lexer": "ipython3",
   "version": "3.8.8"
  },
  "toc": {
   "base_numbering": 1,
   "nav_menu": {},
   "number_sections": true,
   "sideBar": true,
   "skip_h1_title": false,
   "title_cell": "Table of Contents",
   "title_sidebar": "Contents",
   "toc_cell": false,
   "toc_position": {},
   "toc_section_display": true,
   "toc_window_display": false
  }
 },
 "nbformat": 4,
 "nbformat_minor": 5
}
