{
 "cells": [
  {
   "cell_type": "code",
   "execution_count": 44,
   "id": "1787747e",
   "metadata": {
    "ExecuteTime": {
     "end_time": "2021-09-19T03:22:30.103457Z",
     "start_time": "2021-09-19T03:22:30.099768Z"
    }
   },
   "outputs": [
    {
     "name": "stdout",
     "output_type": "stream",
     "text": [
      "[1 1 1 1]\n",
      "4\n",
      "False\n",
      "True\n"
     ]
    }
   ],
   "source": [
    "import numpy as np\n",
    "\n",
    "trail = np.random.randint(0, 2, 4)\n",
    "print(trail)\n",
    "print(sum(trail))\n",
    "print(sum(trail[:3]) == 0)\n",
    "print(sum(trail[:3]) == 3)"
   ]
  },
  {
   "cell_type": "code",
   "execution_count": 48,
   "id": "081ee5e0",
   "metadata": {
    "ExecuteTime": {
     "end_time": "2021-09-19T03:24:43.335891Z",
     "start_time": "2021-09-19T03:24:43.182921Z"
    }
   },
   "outputs": [
    {
     "name": "stdout",
     "output_type": "stream",
     "text": [
      "3735 7457 0.5008716642081266\n"
     ]
    }
   ],
   "source": [
    "import numpy as np\n",
    "numerator = 0\n",
    "denominator = 0\n",
    "\n",
    "for i in range(10000):\n",
    "    trail = np.random.randint(0, 2, 4)\n",
    "    if sum(trail[:3]) == 0 or sum(trail[:3]) == 3:\n",
    "        continue\n",
    "    elif sum(trail) == 1 or sum(trail) == 3:\n",
    "        numerator += 1\n",
    "        denominator += 1\n",
    "    elif sum(trail) == 2:\n",
    "        denominator += 1\n",
    "print (numerator, denominator, numerator/denominator)        \n",
    "        \n",
    "    "
   ]
  },
  {
   "cell_type": "code",
   "execution_count": null,
   "id": "b8128d07",
   "metadata": {},
   "outputs": [],
   "source": []
  },
  {
   "cell_type": "code",
   "execution_count": null,
   "id": "6e6768d4",
   "metadata": {},
   "outputs": [],
   "source": []
  }
 ],
 "metadata": {
  "kernelspec": {
   "display_name": "Python 3",
   "language": "python",
   "name": "python3"
  },
  "language_info": {
   "codemirror_mode": {
    "name": "ipython",
    "version": 3
   },
   "file_extension": ".py",
   "mimetype": "text/x-python",
   "name": "python",
   "nbconvert_exporter": "python",
   "pygments_lexer": "ipython3",
   "version": "3.8.8"
  },
  "toc": {
   "base_numbering": 1,
   "nav_menu": {},
   "number_sections": true,
   "sideBar": true,
   "skip_h1_title": false,
   "title_cell": "Table of Contents",
   "title_sidebar": "Contents",
   "toc_cell": false,
   "toc_position": {},
   "toc_section_display": true,
   "toc_window_display": false
  }
 },
 "nbformat": 4,
 "nbformat_minor": 5
}
