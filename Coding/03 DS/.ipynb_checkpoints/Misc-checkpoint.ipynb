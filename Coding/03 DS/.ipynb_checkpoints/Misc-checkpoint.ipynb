{
 "cells": [
  {
   "cell_type": "code",
   "execution_count": 2,
   "id": "0541755a",
   "metadata": {},
   "outputs": [
    {
     "data": {
      "text/plain": [
       "2.5"
      ]
     },
     "execution_count": 2,
     "metadata": {},
     "output_type": "execute_result"
    }
   ],
   "source": [
    "5/2"
   ]
  },
  {
   "cell_type": "code",
   "execution_count": 4,
   "id": "bc896574",
   "metadata": {},
   "outputs": [
    {
     "data": {
      "text/plain": [
       "2"
      ]
     },
     "execution_count": 4,
     "metadata": {},
     "output_type": "execute_result"
    }
   ],
   "source": [
    "5//2"
   ]
  },
  {
   "cell_type": "code",
   "execution_count": 9,
   "id": "5d1acfa0",
   "metadata": {},
   "outputs": [
    {
     "name": "stdout",
     "output_type": "stream",
     "text": [
      "2\n",
      "3\n"
     ]
    }
   ],
   "source": [
    "import math\n",
    "\n",
    "a = 2.4\n",
    "print(math.floor(a))\n",
    "print(math.ceil(a))"
   ]
  },
  {
   "cell_type": "code",
   "execution_count": 29,
   "id": "081eee07",
   "metadata": {},
   "outputs": [
    {
     "name": "stdout",
     "output_type": "stream",
     "text": [
      "1\n"
     ]
    }
   ],
   "source": [
    "import random\n",
    " \n",
    "print(random.randint(1,100))"
   ]
  },
  {
   "cell_type": "code",
   "execution_count": 34,
   "id": "0899fbfd",
   "metadata": {},
   "outputs": [
    {
     "name": "stdout",
     "output_type": "stream",
     "text": [
      "Choose a number from 0 to 100.\n",
      "Answer with:\n",
      "   l (your num is lower)\n",
      "   h (your num is higher)\n",
      " any other key (guess is right).\n",
      "Is it 50? (l/h/y): l\n",
      "Is it 24? (l/h/y): l\n",
      "Is it 11? (l/h/y): l\n",
      "Is it 5? (l/h/y): y\n",
      "Got it!\n",
      "Total counts 4\n"
     ]
    }
   ],
   "source": [
    "import random\n",
    "total = 0\n",
    "\n",
    "def find(low, high, answer):\n",
    "    global total\n",
    "    count = 0\n",
    "    mid = (high + low) // 2  # Midpoint of low..high\n",
    "    guess  = input('Is it {}? (l/h/y): '.format(mid))\n",
    "    count += 1\n",
    "\n",
    "    if (guess == answer):  # Base case\n",
    "        total += count\n",
    "        print('counts is {}, total is {}'.format(count, total))\n",
    "    else:\n",
    "        if guess == 'l':\n",
    "            find(low, mid-1)    #find(low, mid)\n",
    "        else:\n",
    "            find(mid+1, high)\n",
    "\n",
    "print('Choose a number from 0 to 100.')\n",
    "print('Answer with:')\n",
    "print('   l (your num is lower)')\n",
    "print('   h (your num is higher)')\n",
    "print(' any other key (guess is right).')\n",
    "\n",
    "find(0, 100)\n",
    "\n",
    "for i in range(100):\n",
    "    answer = random.randint(1,100)\n",
    "    print(i, find(0, 100, answer))"
   ]
  },
  {
   "cell_type": "code",
   "execution_count": null,
   "id": "8ee89e50",
   "metadata": {},
   "outputs": [],
   "source": []
  }
 ],
 "metadata": {
  "kernelspec": {
   "display_name": "Python 3",
   "language": "python",
   "name": "python3"
  },
  "language_info": {
   "codemirror_mode": {
    "name": "ipython",
    "version": 3
   },
   "file_extension": ".py",
   "mimetype": "text/x-python",
   "name": "python",
   "nbconvert_exporter": "python",
   "pygments_lexer": "ipython3",
   "version": "3.8.8"
  },
  "toc": {
   "base_numbering": 1,
   "nav_menu": {},
   "number_sections": true,
   "sideBar": true,
   "skip_h1_title": false,
   "title_cell": "Table of Contents",
   "title_sidebar": "Contents",
   "toc_cell": false,
   "toc_position": {},
   "toc_section_display": true,
   "toc_window_display": false
  }
 },
 "nbformat": 4,
 "nbformat_minor": 5
}
