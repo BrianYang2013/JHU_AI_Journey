{
 "cells": [
  {
   "cell_type": "code",
   "execution_count": 2,
   "id": "af5a4b87",
   "metadata": {},
   "outputs": [
    {
     "data": {
      "text/plain": [
       "2.5"
      ]
     },
     "execution_count": 2,
     "metadata": {},
     "output_type": "execute_result"
    }
   ],
   "source": [
    "5/2"
   ]
  },
  {
   "cell_type": "code",
   "execution_count": 4,
   "id": "bb68ce68",
   "metadata": {},
   "outputs": [
    {
     "data": {
      "text/plain": [
       "2"
      ]
     },
     "execution_count": 4,
     "metadata": {},
     "output_type": "execute_result"
    }
   ],
   "source": [
    "5//2"
   ]
  },
  {
   "cell_type": "code",
   "execution_count": 9,
   "id": "6b1b9533",
   "metadata": {},
   "outputs": [
    {
     "name": "stdout",
     "output_type": "stream",
     "text": [
      "2\n",
      "3\n"
     ]
    }
   ],
   "source": [
    "import math\n",
    "\n",
    "a = 2.4\n",
    "print(math.floor(a))\n",
    "print(math.ceil(a))"
   ]
  },
  {
   "cell_type": "code",
   "execution_count": 29,
   "id": "aeddd3df",
   "metadata": {},
   "outputs": [
    {
     "name": "stdout",
     "output_type": "stream",
     "text": [
      "1\n"
     ]
    }
   ],
   "source": [
    "import random\n",
    " \n",
    "print(random.randint(1,100))"
   ]
  },
  {
   "cell_type": "code",
   "execution_count": 77,
   "id": "b39e942b",
   "metadata": {},
   "outputs": [
    {
     "name": "stdout",
     "output_type": "stream",
     "text": [
      "average guess is 5.79996727\n"
     ]
    }
   ],
   "source": [
    "import random\n",
    "total = 0\n",
    "n = 100000000\n",
    "\n",
    "def find(low, high, answer):\n",
    "    global total\n",
    "\n",
    "    mid = (high + low) // 2\n",
    "    guess = mid\n",
    "    total += 1\n",
    "#    print(\"the middle is \", mid)\n",
    "\n",
    "    if (guess == answer):  # Base case\n",
    "#        print('The answer is {}, and cumulated total counts is {}'.format(answer, total))\n",
    "        return True\n",
    "    else:\n",
    "        if guess > answer:\n",
    "            find(low, mid-1, answer)    #find(low, mid)\n",
    "        else:\n",
    "            find(mid+1, high, answer)\n",
    "\n",
    "for i in range(n):\n",
    "    answer = random.randint(1,100)\n",
    "    find(1, 100, answer)\n",
    "#    print(i, find(0, 100, answer))\n",
    "    \n",
    "print(\"average guess is\", total/n)    "
   ]
  },
  {
   "cell_type": "code",
   "execution_count": 78,
   "id": "25a531f1",
   "metadata": {},
   "outputs": [
    {
     "name": "stdout",
     "output_type": "stream",
     "text": [
      "average guess is 5.80007068\n"
     ]
    }
   ],
   "source": [
    "import random\n",
    "total = 0\n",
    "n = 100000000\n",
    "\n",
    "def find(low, high, answer):\n",
    "    global total\n",
    "\n",
    "    mid = (high + low) // 2\n",
    "    guess = mid\n",
    "    total += 1\n",
    "#    print(\"the middle is \", mid)\n",
    "\n",
    "    if (guess == answer):  # Base case\n",
    "#        print('The answer is {}, and cumulated total counts is {}'.format(answer, total))\n",
    "        return True\n",
    "    else:\n",
    "        if guess > answer:\n",
    "            find(low, mid, answer)    #find(low, mid)\n",
    "        else:\n",
    "            find(mid+1, high, answer)\n",
    "\n",
    "for i in range(n):\n",
    "    answer = random.randint(1,100)\n",
    "    find(1, 100, answer)\n",
    "#    print(i, find(0, 100, answer))\n",
    "    \n",
    "print(\"average guess is\", total/n)    "
   ]
  },
  {
   "cell_type": "code",
   "execution_count": null,
   "id": "cf39e919",
   "metadata": {},
   "outputs": [],
   "source": []
  }
 ],
 "metadata": {
  "kernelspec": {
   "display_name": "Python 3",
   "language": "python",
   "name": "python3"
  },
  "language_info": {
   "codemirror_mode": {
    "name": "ipython",
    "version": 3
   },
   "file_extension": ".py",
   "mimetype": "text/x-python",
   "name": "python",
   "nbconvert_exporter": "python",
   "pygments_lexer": "ipython3",
   "version": "3.8.8"
  },
  "toc": {
   "base_numbering": 1,
   "nav_menu": {},
   "number_sections": true,
   "sideBar": true,
   "skip_h1_title": false,
   "title_cell": "Table of Contents",
   "title_sidebar": "Contents",
   "toc_cell": false,
   "toc_position": {},
   "toc_section_display": true,
   "toc_window_display": false
  }
 },
 "nbformat": 4,
 "nbformat_minor": 5
}
