{
 "cells": [
  {
   "cell_type": "markdown",
   "id": "92d9e1cc",
   "metadata": {},
   "source": [
    "# Module 01 - Complexity and ADTs"
   ]
  },
  {
   "cell_type": "code",
   "execution_count": 1,
   "id": "69e9fbef",
   "metadata": {},
   "outputs": [
    {
     "name": "stdout",
     "output_type": "stream",
     "text": [
      "logn: 0          n: 1          nlogn: 0          n^2: 1          n^3: 1          2^n: 2          n!: 1         \n",
      "logn: 0          n: 2          nlogn: 1          n^2: 4          n^3: 8          2^n: 4          n!: 2         \n",
      "logn: 1          n: 3          nlogn: 3          n^2: 9          n^3: 27         2^n: 8          n!: 6         \n",
      "logn: 1          n: 4          nlogn: 5          n^2: 16         n^3: 64         2^n: 16         n!: 24        \n",
      "logn: 1          n: 5          nlogn: 8          n^2: 25         n^3: 125        2^n: 32         n!: 120       \n",
      "logn: 1          n: 6          nlogn: 10         n^2: 36         n^3: 216        2^n: 64         n!: 720       \n",
      "logn: 1          n: 7          nlogn: 13         n^2: 49         n^3: 343        2^n: 128        n!: 5040      \n",
      "logn: 2          n: 8          nlogn: 16         n^2: 64         n^3: 512        2^n: 256        n!: 40320     \n",
      "logn: 2          n: 9          nlogn: 19         n^2: 81         n^3: 729        2^n: 512        n!: 362880    \n"
     ]
    }
   ],
   "source": [
    "# Computational complexity.\n",
    "\n",
    "import math\n",
    "n = 10\n",
    "\n",
    "for i in range(1,n):\n",
    "    print(\"logn: %-10d n: %-10d nlogn: %-10d n^2: %-10d n^3: %-10d 2^n: %-10d n!: %-10d\" % \n",
    "          (math.log(i), i, i * math.log(i), math.pow(i, 2), math.pow(i, 3), math.pow(2, i), math.factorial(i)))"
   ]
  },
  {
   "cell_type": "code",
   "execution_count": 2,
   "id": "9a6a687d",
   "metadata": {},
   "outputs": [
    {
     "data": {
      "text/plain": [
       "120"
      ]
     },
     "execution_count": 2,
     "metadata": {},
     "output_type": "execute_result"
    }
   ],
   "source": [
    "math.factorial(5)"
   ]
  },
  {
   "cell_type": "code",
   "execution_count": null,
   "id": "b5412037",
   "metadata": {},
   "outputs": [],
   "source": []
  }
 ],
 "metadata": {
  "kernelspec": {
   "display_name": "Python 3",
   "language": "python",
   "name": "python3"
  },
  "language_info": {
   "codemirror_mode": {
    "name": "ipython",
    "version": 3
   },
   "file_extension": ".py",
   "mimetype": "text/x-python",
   "name": "python",
   "nbconvert_exporter": "python",
   "pygments_lexer": "ipython3",
   "version": "3.8.8"
  },
  "toc": {
   "base_numbering": 1,
   "nav_menu": {},
   "number_sections": true,
   "sideBar": true,
   "skip_h1_title": false,
   "title_cell": "Table of Contents",
   "title_sidebar": "Contents",
   "toc_cell": false,
   "toc_position": {},
   "toc_section_display": true,
   "toc_window_display": false
  }
 },
 "nbformat": 4,
 "nbformat_minor": 5
}
