{
 "cells": [
  {
   "cell_type": "code",
   "execution_count": null,
   "id": "2dcc9a49",
   "metadata": {},
   "outputs": [],
   "source": [
    "# Package: scipy.special, itertools"
   ]
  },
  {
   "cell_type": "code",
   "execution_count": 2,
   "id": "f80da165",
   "metadata": {},
   "outputs": [
    {
     "name": "stdout",
     "output_type": "stream",
     "text": [
      "perm(3,2) 6.0\n",
      "comb(3,2) 3.0\n"
     ]
    }
   ],
   "source": [
    "from scipy.special import comb, perm\n",
    "\n",
    "print(\"perm(3,2)\", perm(3, 2))\n",
    "print(\"comb(3,2)\", comb(3, 2))"
   ]
  },
  {
   "cell_type": "code",
   "execution_count": 3,
   "id": "31aa9c49",
   "metadata": {},
   "outputs": [
    {
     "data": {
      "text/plain": [
       "0.308300395256917"
      ]
     },
     "execution_count": 3,
     "metadata": {},
     "output_type": "execute_result"
    }
   ],
   "source": [
    "# Example 2.23\n",
    "\n",
    "comb(15, 3) * comb(10, 3) / comb(25, 6) "
   ]
  },
  {
   "cell_type": "code",
   "execution_count": 8,
   "id": "e2ab117c",
   "metadata": {},
   "outputs": [
    {
     "data": {
      "text/plain": [
       "0.8529644268774703"
      ]
     },
     "execution_count": 8,
     "metadata": {},
     "output_type": "execute_result"
    }
   ],
   "source": [
    "# Example 2.23\n",
    "\n",
    "product = 0\n",
    "for i in range(4):\n",
    "    product += comb(10, i) * comb(15, 6-i) / comb (25,6)\n",
    "    \n",
    "product"
   ]
  },
  {
   "cell_type": "code",
   "execution_count": null,
   "id": "08ffad28",
   "metadata": {},
   "outputs": [],
   "source": []
  }
 ],
 "metadata": {
  "kernelspec": {
   "display_name": "Python 3",
   "language": "python",
   "name": "python3"
  },
  "language_info": {
   "codemirror_mode": {
    "name": "ipython",
    "version": 3
   },
   "file_extension": ".py",
   "mimetype": "text/x-python",
   "name": "python",
   "nbconvert_exporter": "python",
   "pygments_lexer": "ipython3",
   "version": "3.8.8"
  },
  "toc": {
   "base_numbering": 1,
   "nav_menu": {},
   "number_sections": true,
   "sideBar": true,
   "skip_h1_title": false,
   "title_cell": "Table of Contents",
   "title_sidebar": "Contents",
   "toc_cell": false,
   "toc_position": {},
   "toc_section_display": true,
   "toc_window_display": false
  }
 },
 "nbformat": 4,
 "nbformat_minor": 5
}
