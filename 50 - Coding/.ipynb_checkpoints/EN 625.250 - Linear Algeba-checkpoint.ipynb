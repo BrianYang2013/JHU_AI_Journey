{
 "cells": [
  {
   "cell_type": "markdown",
   "metadata": {},
   "source": [
    "# EN 625.250 - Linear Algeba, Linear Algebra (scipy.linalg)\n",
    "Mainly cover Chapter 7 and 8, on Linear Algeba  \n",
    "[Scipy Tutorial, Scipy v1.6.3, on scipy.linalg](https://docs.scipy.org/doc/scipy/reference/tutorial/linalg.html) \n",
    "\n",
    "Tips: \n",
    "- put 2 empty block in the end of sentence. Press enter then you get a new line in JuputerNotebook cell\n",
    "- ESC enter command mode, m for markdown"
   ]
  },
  {
   "cell_type": "code",
   "execution_count": 2,
   "metadata": {
    "ExecuteTime": {
     "end_time": "2021-06-07T03:26:59.196010Z",
     "start_time": "2021-06-07T03:26:58.645877Z"
    }
   },
   "outputs": [],
   "source": [
    "import numpy as np\n",
    "from scipy import linalg"
   ]
  },
  {
   "cell_type": "markdown",
   "metadata": {},
   "source": [
    "## numpy.matrix vs 2-D numpy.ndarray\n",
    "numpy.matrix > numpy.ndarray, but may lead to confusion of which class is being used. "
   ]
  },
  {
   "cell_type": "code",
   "execution_count": 14,
   "metadata": {
    "ExecuteTime": {
     "end_time": "2021-06-07T00:32:39.881993Z",
     "start_time": "2021-06-07T00:32:39.872813Z"
    }
   },
   "outputs": [
    {
     "name": "stdout",
     "output_type": "stream",
     "text": [
      "Matrix A:\n",
      " [[1 2]\n",
      " [3 4]]\n",
      "Matrix A inverse:\n",
      " [[-2.   1. ]\n",
      " [ 1.5 -0.5]]\n",
      "Matrix b:\n",
      " [[5 6]]\n",
      "Matrix b transpose:\n",
      " [[5]\n",
      " [6]]\n",
      "Matrix A multiple b^T:\n",
      " [[17]\n",
      " [39]]\n"
     ]
    }
   ],
   "source": [
    "# Examples in numpy\n",
    "A = np.mat('[1 2;3 4]')\n",
    "print(\"Matrix A:\\n\", A)\n",
    "print(\"Matrix A inverse:\\n\", A.I)\n",
    "b = np.mat('[5 6]')\n",
    "print(\"Matrix b:\\n\", b)\n",
    "print(\"Matrix b transpose:\\n\", b.T)\n",
    "print(\"Matrix A multiple b^T:\\n\", A*b.T)"
   ]
  },
  {
   "cell_type": "code",
   "execution_count": 21,
   "metadata": {
    "ExecuteTime": {
     "end_time": "2021-06-07T02:08:37.566891Z",
     "start_time": "2021-06-07T02:08:37.559194Z"
    }
   },
   "outputs": [
    {
     "name": "stdout",
     "output_type": "stream",
     "text": [
      "Matrix A:\n",
      " [[1 2]\n",
      " [3 4]]\n",
      "Matrix A inverse:\n",
      " [[-2.   1. ]\n",
      " [ 1.5 -0.5]]\n",
      "2D array, vector b:\n",
      " [[5 6]]\n",
      "2D array, vector b^T:\n",
      " [[5]\n",
      " [6]]\n",
      "A*b is not matrix multiplication:\n",
      " [[ 5 12]\n",
      " [15 24]]\n",
      "Matrix A multiple b^T, A.dot(b.T):\n",
      " [[17]\n",
      " [39]]\n",
      "1D array, vector c:\n",
      " [5 6]\n",
      "Matrix A multiple c^T:\n",
      " [[17]\n",
      " [39]]\n"
     ]
    }
   ],
   "source": [
    "# Example in Scipy.linalg\n",
    "# scipy.linalg operations can be applied equally to numpy.matrix or to 2D numpy.ndarray objects.\n",
    "A = np.array([[1,2],[3,4]])\n",
    "A_inv = linalg.inv(A)\n",
    "\n",
    "b = np.array([[5,6]]) #2D array\n",
    "\n",
    "A*b #not matrix multiplication!\n",
    "A.dot(b.T) #matrix multiplication\n",
    "\n",
    "c = np.array([5,6]) #1D array\n",
    "\n",
    "# c.T  #not matrix transpose!\n",
    "# A.dot(b)  #does not matter for multiplication\n",
    "\n",
    "print(\"Matrix A:\\n\", A)\n",
    "print(\"Matrix A inverse:\\n\", A_inv)\n",
    "print(\"2D array, vector b:\\n\", b)\n",
    "print(\"2D array, vector b^T:\\n\", b.T)\n",
    "print(\"A*b is not matrix multiplication:\\n\", A*b)\n",
    "print(\"Matrix A multiple b^T, A.dot(b.T):\\n\", A.dot(b.T))\n",
    "print(\"1D array, vector c:\\n\", c)\n",
    "print(\"Matrix A multiple c^T still works:\\n\", A.dot(b.T))"
   ]
  },
  {
   "cell_type": "markdown",
   "metadata": {},
   "source": [
    "## Basic routines\n",
    "### Inverse"
   ]
  },
  {
   "cell_type": "code",
   "execution_count": 25,
   "metadata": {
    "ExecuteTime": {
     "end_time": "2021-06-07T02:18:19.243897Z",
     "start_time": "2021-06-07T02:18:19.238230Z"
    }
   },
   "outputs": [
    {
     "name": "stdout",
     "output_type": "stream",
     "text": [
      "Matrix A:\n",
      " [[1 3 5]\n",
      " [2 5 1]\n",
      " [2 3 8]]\n",
      "Matrix A inverse:\n",
      " [[-1.48  0.36  0.88]\n",
      " [ 0.56  0.08 -0.36]\n",
      " [ 0.16 -0.12  0.04]]\n",
      "Check the result, A.dot(linalg.inv(A)):\n",
      " [[ 1.00000000e+00 -1.11022302e-16 -6.24500451e-17]\n",
      " [ 3.05311332e-16  1.00000000e+00  1.87350135e-16]\n",
      " [ 2.22044605e-16 -1.11022302e-16  1.00000000e+00]]\n"
     ]
    }
   ],
   "source": [
    "A = np.array([[1,3,5],[2,5,1],[2,3,8]])\n",
    "A.dot(linalg.inv(A)) #double check\n",
    "\n",
    "print(\"Matrix A:\\n\", A)\n",
    "print(\"Matrix A inverse:\\n\", linalg.inv(A))\n",
    "print(\"Check the result, A.dot(linalg.inv(A)):\\n\", A.dot(linalg.inv(A)))"
   ]
  },
  {
   "cell_type": "markdown",
   "metadata": {},
   "source": [
    "### Solving a linear system"
   ]
  },
  {
   "cell_type": "code",
   "execution_count": 27,
   "metadata": {
    "ExecuteTime": {
     "end_time": "2021-06-07T02:21:20.992544Z",
     "start_time": "2021-06-07T02:21:20.986630Z"
    }
   },
   "outputs": [
    {
     "name": "stdout",
     "output_type": "stream",
     "text": [
      "Matrix A:\n",
      " [[1 2]\n",
      " [3 4]]\n",
      "Vector b:\n",
      " [[5]\n",
      " [6]]\n",
      "A slower way, linalg.inv(A).dot(b):\n",
      " [[-4. ]\n",
      " [ 4.5]]\n",
      "Check the result, A.dot(linalg.inv(A).dot(b)) - b:\n",
      " [[0.00000000e+00]\n",
      " [1.77635684e-15]]\n"
     ]
    }
   ],
   "source": [
    "# Intuitive but slow way - 6 ms\n",
    "A = np.array([[1, 2], [3, 4]])\n",
    "b = np.array([[5], [6]])\n",
    "\n",
    "linalg.inv(A).dot(b)  # slow\n",
    "A.dot(linalg.inv(A).dot(b)) - b  # check\n",
    "\n",
    "print(\"Matrix A:\\n\", A)\n",
    "print(\"Vector b:\\n\", b)\n",
    "print(\"A slower way, linalg.inv(A).dot(b):\\n\", linalg.inv(A).dot(b))\n",
    "print(\"Check the result, A.dot(linalg.inv(A).dot(b)) - b:\\n\", A.dot(linalg.inv(A).dot(b)) - b)"
   ]
  },
  {
   "cell_type": "code",
   "execution_count": 28,
   "metadata": {
    "ExecuteTime": {
     "end_time": "2021-06-07T02:22:06.694761Z",
     "start_time": "2021-06-07T02:22:06.690204Z"
    }
   },
   "outputs": [
    {
     "name": "stdout",
     "output_type": "stream",
     "text": [
      "A faster way, np.linalg.solve(A, b):\n",
      " [[-4. ]\n",
      " [ 4.5]]\n",
      "Check the result, A.dot(np.linalg.solve(A, b)) - b:\n",
      " [[0.]\n",
      " [0.]]\n"
     ]
    }
   ],
   "source": [
    "# A faster way - 4 ms\n",
    "np.linalg.solve(A, b)  # fast\n",
    "A.dot(np.linalg.solve(A, b)) - b  # check\n",
    "print(\"A faster way, np.linalg.solve(A, b):\\n\", np.linalg.solve(A, b))\n",
    "print(\"Check the result, A.dot(np.linalg.solve(A, b)) - b:\\n\", A.dot(np.linalg.solve(A, b)) - b)"
   ]
  },
  {
   "cell_type": "markdown",
   "metadata": {},
   "source": [
    "### Finding the determinant"
   ]
  },
  {
   "cell_type": "code",
   "execution_count": 29,
   "metadata": {
    "ExecuteTime": {
     "end_time": "2021-06-07T02:32:40.522456Z",
     "start_time": "2021-06-07T02:32:40.518498Z"
    }
   },
   "outputs": [
    {
     "name": "stdout",
     "output_type": "stream",
     "text": [
      "Matrix A:\n",
      " [[1 2]\n",
      " [3 4]]\n",
      "Determinant of A:\n",
      " -2.0\n"
     ]
    }
   ],
   "source": [
    "A = np.array([[1,2],[3,4]])\n",
    "\n",
    "print(\"Matrix A:\\n\", A)\n",
    "print(\"Determinant of A:\\n\", linalg.det(A))"
   ]
  },
  {
   "cell_type": "markdown",
   "metadata": {},
   "source": [
    "### Computing norm\n",
    "A wide range of norm definitions are available using different parameters to the order argument of linalg.norm"
   ]
  },
  {
   "cell_type": "code",
   "execution_count": 3,
   "metadata": {
    "ExecuteTime": {
     "end_time": "2021-06-07T03:27:05.038809Z",
     "start_time": "2021-06-07T03:27:05.032568Z"
    }
   },
   "outputs": [
    {
     "name": "stdout",
     "output_type": "stream",
     "text": [
      "Matrix A:\n",
      " [[1 2]\n",
      " [3 4]]\n",
      "Matrix A norm linalg.norm(A):\n",
      " 5.477225575051661\n",
      "Matrix A norm linalg.norm(A,'fro'), frobenius norm is the default:\n",
      " 5.477225575051661\n",
      "Matrix A norm linalg.norm(A,1), L1 norm (max column sum):\n",
      " 6.0\n",
      "Matrix A norm linalg.norm(A,-1):\n",
      " 4.0\n",
      "Matrix A norm linalg.norm(A,np.inf), L inf norm (max row sum):\n",
      " 7.0\n"
     ]
    }
   ],
   "source": [
    "A=np.array([[1,2],[3,4]])\n",
    "\n",
    "print(\"Matrix A:\\n\", A)\n",
    "print(\"Matrix A norm linalg.norm(A):\\n\", linalg.norm(A))\n",
    "print(\"Matrix A norm linalg.norm(A,'fro'), frobenius norm is the default:\\n\", linalg.norm(A,'fro'))\n",
    "print(\"Matrix A norm linalg.norm(A,1), L1 norm (max column sum):\\n\", linalg.norm(A,1))\n",
    "print(\"Matrix A norm linalg.norm(A,-1):\\n\", linalg.norm(A,-1))\n",
    "print(\"Matrix A norm linalg.norm(A,np.inf), L inf norm (max row sum):\\n\", linalg.norm(A,np.inf))"
   ]
  },
  {
   "cell_type": "markdown",
   "metadata": {},
   "source": [
    "### Solving linear least-squares problems and pseudo-inverses"
   ]
  },
  {
   "cell_type": "markdown",
   "metadata": {},
   "source": [
    "## Decompositions"
   ]
  },
  {
   "cell_type": "markdown",
   "metadata": {},
   "source": [
    "### Eigenvalues and Eigenvectors "
   ]
  },
  {
   "cell_type": "code",
   "execution_count": 8,
   "metadata": {
    "ExecuteTime": {
     "end_time": "2021-06-07T03:37:01.789108Z",
     "start_time": "2021-06-07T03:37:01.782481Z"
    }
   },
   "outputs": [
    {
     "name": "stdout",
     "output_type": "stream",
     "text": [
      "eigenvalues (-0.3722813232690143+0j) (5.372281323269014+0j)\n",
      "first eigenvector [-0.82456484  0.56576746]\n",
      "second eigenvector [-0.41597356 -0.90937671]\n",
      "eigenvectors are unitary:  [1. 1.]\n",
      "check the computation:  5.551115123125783e-17\n"
     ]
    }
   ],
   "source": [
    "A = np.array([[1, 2], [3, 4]])\n",
    "la, v = linalg.eig(A)\n",
    "l1, l2 = la\n",
    "\n",
    "print(\"eigenvalues: \", l1, l2)   # eigenvalues\n",
    "print(\"first eigenvector: \", v[:, 0])   # first eigenvector\n",
    "print(\"second eigenvector: \", v[:, 1])   # second eigenvector\n",
    "\n",
    "print(\"eigenvectors are unitary: \", np.sum(abs(v**2), axis=0))  # eigenvectors are unitary\n",
    "\n",
    "v1 = np.array(v[:, 0]).T\n",
    "print(\"check the computation: \", linalg.norm(A.dot(v1) - l1*v1))  # check the computation"
   ]
  },
  {
   "cell_type": "code",
   "execution_count": 5,
   "metadata": {
    "ExecuteTime": {
     "end_time": "2021-06-07T00:06:37.790803Z",
     "start_time": "2021-06-07T00:06:37.785935Z"
    }
   },
   "outputs": [
    {
     "name": "stdout",
     "output_type": "stream",
     "text": [
      "[1.+0.j 2.+0.j 3.+0.j]\n",
      "[[1. 0. 0.]\n",
      " [0. 1. 0.]\n",
      " [0. 0. 1.]]\n"
     ]
    }
   ],
   "source": [
    "# simply example\n",
    "A = np.array([[1, 0, 0], \n",
    "              [0, 2, 0],\n",
    "              [0, 0, 3]])\n",
    "evalue, evector = linalg.eig(A)\n",
    "print(evalue)\n",
    "print(evector)"
   ]
  },
  {
   "cell_type": "code",
   "execution_count": 6,
   "metadata": {
    "ExecuteTime": {
     "end_time": "2021-06-07T00:08:06.628659Z",
     "start_time": "2021-06-07T00:08:06.623593Z"
    }
   },
   "outputs": [
    {
     "name": "stdout",
     "output_type": "stream",
     "text": [
      "[-2.+0.j  5.+0.j  5.+0.j]\n",
      "[[-0.89442719 -0.83205029  0.        ]\n",
      " [ 0.4472136  -0.5547002   0.        ]\n",
      " [ 0.          0.          1.        ]]\n"
     ]
    }
   ],
   "source": [
    "# with identical eigenvalues, 5 have 2 evectors (column vector!) [-0.83205029, -0.5547002, 0]^T and [0, 0, 1]^T\n",
    "A = np.array([[1, 6, 0], \n",
    "              [2, 2, 0],\n",
    "              [0, 0, 5]])\n",
    "evalue, evector = linalg.eig(A)\n",
    "print(evalue)\n",
    "print(evector)"
   ]
  },
  {
   "cell_type": "code",
   "execution_count": 7,
   "metadata": {
    "ExecuteTime": {
     "end_time": "2021-06-07T00:11:19.196847Z",
     "start_time": "2021-06-07T00:11:19.191903Z"
    }
   },
   "outputs": [
    {
     "name": "stdout",
     "output_type": "stream",
     "text": [
      "[6.+0.j 4.+0.j 6.+0.j]\n",
      "[[ 1.00000000e+00  7.07106781e-01 -1.00000000e+00]\n",
      " [ 0.00000000e+00  7.07106781e-01  0.00000000e+00]\n",
      " [ 0.00000000e+00  0.00000000e+00  1.33226763e-15]]\n"
     ]
    }
   ],
   "source": [
    "# with identical eigenvalues, and linear dependent vector, [1, 0, 0]^T\n",
    "# So can not inverse. Might transform to Jordan style. \n",
    "A = np.array([[6, -2, 1], \n",
    "              [0, 4, 0],\n",
    "              [0, 0, 6]])\n",
    "evalue, evector = linalg.eig(A)\n",
    "print(evalue)\n",
    "print(evector)"
   ]
  },
  {
   "cell_type": "markdown",
   "metadata": {},
   "source": [
    "### Singular value decomposition"
   ]
  },
  {
   "cell_type": "markdown",
   "metadata": {},
   "source": [
    "### LU decomposition"
   ]
  },
  {
   "cell_type": "code",
   "execution_count": null,
   "metadata": {},
   "outputs": [],
   "source": []
  }
 ],
 "metadata": {
  "kernelspec": {
   "display_name": "Python 3",
   "language": "python",
   "name": "python3"
  },
  "language_info": {
   "codemirror_mode": {
    "name": "ipython",
    "version": 3
   },
   "file_extension": ".py",
   "mimetype": "text/x-python",
   "name": "python",
   "nbconvert_exporter": "python",
   "pygments_lexer": "ipython3",
   "version": "3.8.3"
  },
  "toc": {
   "base_numbering": 1,
   "nav_menu": {},
   "number_sections": true,
   "sideBar": true,
   "skip_h1_title": true,
   "title_cell": "Table of Contents",
   "title_sidebar": "Contents",
   "toc_cell": false,
   "toc_position": {
    "height": "calc(100% - 180px)",
    "left": "10px",
    "top": "150px",
    "width": "324px"
   },
   "toc_section_display": true,
   "toc_window_display": true
  }
 },
 "nbformat": 4,
 "nbformat_minor": 4
}
