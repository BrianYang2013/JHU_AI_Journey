{
 "cells": [
  {
   "cell_type": "code",
   "execution_count": 2,
   "metadata": {
    "ExecuteTime": {
     "end_time": "2021-06-09T06:18:48.436125Z",
     "start_time": "2021-06-09T06:18:48.113104Z"
    }
   },
   "outputs": [
    {
     "name": "stdout",
     "output_type": "stream",
     "text": [
      "Document 'google_advanced_searching.pdf' has 2 page(s). Complete document is searchable\n",
      "Document 'TB Risk Assessment form.pdf' has 2 page(s). Complete document is non-searchable\n"
     ]
    }
   ],
   "source": [
    "## Background: Company want to separate the PDF files and apply the OCR on the scanned document. \n",
    "## Eventually we will group those files for a project. \n",
    "## I won't use company name, so they will be public. \n",
    "## Reference: https://stackoverflow.com/questions/55704218/how-to-check-if-pdf-is-scanned-image-or-contains-text\n",
    "\n",
    "# install pdfminer, you can use the following command: \n",
    "# conda install -c conda-forge pdfminer\n",
    "\n",
    "def get_pdf_searchable_pages(fname):\n",
    "    # pip install pdfminer\n",
    "    from pdfminer.pdfpage import PDFPage\n",
    "    searchable_pages = []\n",
    "    non_searchable_pages = []\n",
    "    page_num = 0\n",
    "    with open(fname, 'rb') as infile:\n",
    "\n",
    "        for page in PDFPage.get_pages(infile):\n",
    "            page_num += 1\n",
    "            if 'Font' in page.resources.keys():\n",
    "                searchable_pages.append(page_num)\n",
    "            else:\n",
    "                non_searchable_pages.append(page_num)\n",
    "    if page_num > 0:\n",
    "        if len(searchable_pages) == 0:\n",
    "            print(f\"Document '{fname}' has {page_num} page(s). \"\n",
    "                  f\"Complete document is non-searchable\")\n",
    "        elif len(non_searchable_pages) == 0:\n",
    "            print(f\"Document '{fname}' has {page_num} page(s). \"\n",
    "                  f\"Complete document is searchable\")\n",
    "        else:\n",
    "            print(f\"searchable_pages : {searchable_pages}\")\n",
    "            print(f\"non_searchable_pages : {non_searchable_pages}\")\n",
    "    else:\n",
    "        print(f\"Not a valid document\")\n",
    "\n",
    "\n",
    "if __name__ == '__main__':\n",
    "    get_pdf_searchable_pages(\"google_advanced_searching.pdf\")\n",
    "    get_pdf_searchable_pages(\"TB Risk Assessment form.pdf\")"
   ]
  },
  {
   "cell_type": "code",
   "execution_count": null,
   "metadata": {},
   "outputs": [],
   "source": []
  }
 ],
 "metadata": {
  "kernelspec": {
   "display_name": "Python 3",
   "language": "python",
   "name": "python3"
  },
  "language_info": {
   "codemirror_mode": {
    "name": "ipython",
    "version": 3
   },
   "file_extension": ".py",
   "mimetype": "text/x-python",
   "name": "python",
   "nbconvert_exporter": "python",
   "pygments_lexer": "ipython3",
   "version": "3.8.3"
  },
  "toc": {
   "base_numbering": 1,
   "nav_menu": {},
   "number_sections": true,
   "sideBar": true,
   "skip_h1_title": true,
   "title_cell": "Table of Contents",
   "title_sidebar": "Contents",
   "toc_cell": false,
   "toc_position": {},
   "toc_section_display": true,
   "toc_window_display": false
  }
 },
 "nbformat": 4,
 "nbformat_minor": 4
}
